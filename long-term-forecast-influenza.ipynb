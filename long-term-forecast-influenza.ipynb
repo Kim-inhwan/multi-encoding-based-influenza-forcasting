{
 "cells": [
  {
   "cell_type": "markdown",
   "metadata": {},
   "source": [
    "# Long Term Influenza Outbreak Forecast using Time-Precidence Correlation of Web data"
   ]
  },
  {
   "cell_type": "markdown",
   "metadata": {},
   "source": [
    "## 1. 초기 세팅"
   ]
  },
  {
   "cell_type": "markdown",
   "metadata": {},
   "source": [
    "### 1-1. 라이브러리 세팅"
   ]
  },
  {
   "cell_type": "code",
   "execution_count": 1,
   "metadata": {},
   "outputs": [],
   "source": [
    "# 라이브러리 autoreload\n",
    "\n",
    "%load_ext autoreload\n",
    "%autoreload 2"
   ]
  },
  {
   "cell_type": "code",
   "execution_count": 2,
   "metadata": {},
   "outputs": [
    {
     "name": "stderr",
     "output_type": "stream",
     "text": [
      "2021-12-26 16:00:12.247791: I tensorflow/stream_executor/platform/default/dso_loader.cc:49] Successfully opened dynamic library libcudart.so.11.0\n"
     ]
    }
   ],
   "source": [
    "# 필요 라이브러리 import\n",
    "\n",
    "import tensorflow as tf\n",
    "import tensorflow_addons as tfa \n",
    "import pandas as pd\n",
    "import numpy as np\n",
    "import matplotlib.pyplot as plt\n",
    "\n",
    "from tqdm import tqdm\n",
    "from sklearn.model_selection import train_test_split\n",
    "from matplotlib import pyplot as plt\n",
    "\n",
    "from utils.preprocessing import normalize\n",
    "from model.proposed import Proposed"
   ]
  },
  {
   "cell_type": "markdown",
   "metadata": {},
   "source": [
    "### 1-2. 데이터 세팅"
   ]
  },
  {
   "cell_type": "code",
   "execution_count": 3,
   "metadata": {},
   "outputs": [],
   "source": [
    "# US, AU, KR influenza data load\n",
    "\n",
    "flu = {\n",
    "    'us': pd.read_csv('./data/US_flu.csv'), \n",
    "    'au': pd.read_csv('./data/AU_flu.csv'),\n",
    "    'kr': pd.read_csv('./data/KR_flu.csv') \n",
    "}"
   ]
  },
  {
   "cell_type": "code",
   "execution_count": 4,
   "metadata": {},
   "outputs": [],
   "source": [
    "# US, AU, KR Google trends data load\n",
    "\n",
    "trends = {\n",
    "    'us': pd.read_csv('./data/US_trends.csv'), \n",
    "    'au': pd.read_csv('./data/AU_trends.csv'), \n",
    "    'kr': pd.read_csv('./data/KR_trends.csv') \n",
    "}"
   ]
  },
  {
   "cell_type": "markdown",
   "metadata": {},
   "source": [
    "## 2. EDA"
   ]
  },
  {
   "cell_type": "markdown",
   "metadata": {},
   "source": [
    "### 2-1. 데이터 살펴보기"
   ]
  },
  {
   "cell_type": "code",
   "execution_count": 5,
   "metadata": {},
   "outputs": [
    {
     "data": {
      "text/html": [
       "<div>\n",
       "<style scoped>\n",
       "    .dataframe tbody tr th:only-of-type {\n",
       "        vertical-align: middle;\n",
       "    }\n",
       "\n",
       "    .dataframe tbody tr th {\n",
       "        vertical-align: top;\n",
       "    }\n",
       "\n",
       "    .dataframe thead th {\n",
       "        text-align: right;\n",
       "    }\n",
       "</style>\n",
       "<table border=\"1\" class=\"dataframe\">\n",
       "  <thead>\n",
       "    <tr style=\"text-align: right;\">\n",
       "      <th></th>\n",
       "      <th>weeks</th>\n",
       "      <th>ILI</th>\n",
       "    </tr>\n",
       "  </thead>\n",
       "  <tbody>\n",
       "    <tr>\n",
       "      <th>0</th>\n",
       "      <td>10-01</td>\n",
       "      <td>19.8284</td>\n",
       "    </tr>\n",
       "    <tr>\n",
       "      <th>1</th>\n",
       "      <td>10-02</td>\n",
       "      <td>18.2749</td>\n",
       "    </tr>\n",
       "    <tr>\n",
       "      <th>2</th>\n",
       "      <td>10-03</td>\n",
       "      <td>19.2606</td>\n",
       "    </tr>\n",
       "    <tr>\n",
       "      <th>3</th>\n",
       "      <td>10-04</td>\n",
       "      <td>19.2495</td>\n",
       "    </tr>\n",
       "    <tr>\n",
       "      <th>4</th>\n",
       "      <td>10-05</td>\n",
       "      <td>20.8877</td>\n",
       "    </tr>\n",
       "    <tr>\n",
       "      <th>...</th>\n",
       "      <td>...</td>\n",
       "      <td>...</td>\n",
       "    </tr>\n",
       "    <tr>\n",
       "      <th>535</th>\n",
       "      <td>20-16</td>\n",
       "      <td>25.7453</td>\n",
       "    </tr>\n",
       "    <tr>\n",
       "      <th>536</th>\n",
       "      <td>20-17</td>\n",
       "      <td>20.2111</td>\n",
       "    </tr>\n",
       "    <tr>\n",
       "      <th>537</th>\n",
       "      <td>20-18</td>\n",
       "      <td>16.2086</td>\n",
       "    </tr>\n",
       "    <tr>\n",
       "      <th>538</th>\n",
       "      <td>20-19</td>\n",
       "      <td>13.5240</td>\n",
       "    </tr>\n",
       "    <tr>\n",
       "      <th>539</th>\n",
       "      <td>20-20</td>\n",
       "      <td>12.3794</td>\n",
       "    </tr>\n",
       "  </tbody>\n",
       "</table>\n",
       "<p>540 rows × 2 columns</p>\n",
       "</div>"
      ],
      "text/plain": [
       "     weeks      ILI\n",
       "0    10-01  19.8284\n",
       "1    10-02  18.2749\n",
       "2    10-03  19.2606\n",
       "3    10-04  19.2495\n",
       "4    10-05  20.8877\n",
       "..     ...      ...\n",
       "535  20-16  25.7453\n",
       "536  20-17  20.2111\n",
       "537  20-18  16.2086\n",
       "538  20-19  13.5240\n",
       "539  20-20  12.3794\n",
       "\n",
       "[540 rows x 2 columns]"
      ]
     },
     "execution_count": 5,
     "metadata": {},
     "output_type": "execute_result"
    }
   ],
   "source": [
    "flu['us']"
   ]
  },
  {
   "cell_type": "code",
   "execution_count": 6,
   "metadata": {},
   "outputs": [
    {
     "name": "stdout",
     "output_type": "stream",
     "text": [
      "us flu data shape: (540, 2)\n",
      "au flu data shape: (540, 2)\n",
      "kr flu data shape: (540, 2)\n"
     ]
    }
   ],
   "source": [
    "# flu 데이터의 형태 출력\n",
    "\n",
    "for nation in flu:\n",
    "    print(f'{nation} flu data shape: {flu[nation].shape}')"
   ]
  },
  {
   "cell_type": "code",
   "execution_count": 7,
   "metadata": {},
   "outputs": [
    {
     "data": {
      "text/html": [
       "<div>\n",
       "<style scoped>\n",
       "    .dataframe tbody tr th:only-of-type {\n",
       "        vertical-align: middle;\n",
       "    }\n",
       "\n",
       "    .dataframe tbody tr th {\n",
       "        vertical-align: top;\n",
       "    }\n",
       "\n",
       "    .dataframe thead th {\n",
       "        text-align: right;\n",
       "    }\n",
       "</style>\n",
       "<table border=\"1\" class=\"dataframe\">\n",
       "  <thead>\n",
       "    <tr style=\"text-align: right;\">\n",
       "      <th></th>\n",
       "      <th>weeks</th>\n",
       "      <th>influenza</th>\n",
       "      <th>H1N1 flu</th>\n",
       "      <th>swine flu</th>\n",
       "      <th>Flu</th>\n",
       "      <th>H1N1</th>\n",
       "      <th>seasonal flu</th>\n",
       "      <th>H1N1 virus</th>\n",
       "      <th>flu virus</th>\n",
       "      <th>H1N1 swine flu</th>\n",
       "      <th>...</th>\n",
       "      <th>polio epidemic</th>\n",
       "      <th>Afluria seasonal flu</th>\n",
       "      <th>hemolytic uremic syndrome HUS</th>\n",
       "      <th>croup</th>\n",
       "      <th>Jeff Duchin</th>\n",
       "      <th>inactivated vaccine</th>\n",
       "      <th>fevers aches</th>\n",
       "      <th>invasive pneumococcal disease</th>\n",
       "      <th>Sudden Acute Respiratory Syndrome</th>\n",
       "      <th>commonly infect humans</th>\n",
       "    </tr>\n",
       "  </thead>\n",
       "  <tbody>\n",
       "    <tr>\n",
       "      <th>0</th>\n",
       "      <td>17-35</td>\n",
       "      <td>0</td>\n",
       "      <td>0</td>\n",
       "      <td>0</td>\n",
       "      <td>6</td>\n",
       "      <td>0</td>\n",
       "      <td>0</td>\n",
       "      <td>0</td>\n",
       "      <td>1</td>\n",
       "      <td>0</td>\n",
       "      <td>...</td>\n",
       "      <td>1</td>\n",
       "      <td>0</td>\n",
       "      <td>0</td>\n",
       "      <td>40</td>\n",
       "      <td>0</td>\n",
       "      <td>46</td>\n",
       "      <td>0</td>\n",
       "      <td>0</td>\n",
       "      <td>0</td>\n",
       "      <td>0</td>\n",
       "    </tr>\n",
       "    <tr>\n",
       "      <th>1</th>\n",
       "      <td>17-36</td>\n",
       "      <td>1</td>\n",
       "      <td>0</td>\n",
       "      <td>0</td>\n",
       "      <td>8</td>\n",
       "      <td>0</td>\n",
       "      <td>0</td>\n",
       "      <td>0</td>\n",
       "      <td>2</td>\n",
       "      <td>0</td>\n",
       "      <td>...</td>\n",
       "      <td>0</td>\n",
       "      <td>0</td>\n",
       "      <td>0</td>\n",
       "      <td>50</td>\n",
       "      <td>0</td>\n",
       "      <td>50</td>\n",
       "      <td>14</td>\n",
       "      <td>14</td>\n",
       "      <td>0</td>\n",
       "      <td>0</td>\n",
       "    </tr>\n",
       "    <tr>\n",
       "      <th>2</th>\n",
       "      <td>17-37</td>\n",
       "      <td>1</td>\n",
       "      <td>0</td>\n",
       "      <td>0</td>\n",
       "      <td>9</td>\n",
       "      <td>0</td>\n",
       "      <td>0</td>\n",
       "      <td>0</td>\n",
       "      <td>2</td>\n",
       "      <td>0</td>\n",
       "      <td>...</td>\n",
       "      <td>0</td>\n",
       "      <td>0</td>\n",
       "      <td>0</td>\n",
       "      <td>51</td>\n",
       "      <td>0</td>\n",
       "      <td>46</td>\n",
       "      <td>14</td>\n",
       "      <td>14</td>\n",
       "      <td>0</td>\n",
       "      <td>0</td>\n",
       "    </tr>\n",
       "    <tr>\n",
       "      <th>3</th>\n",
       "      <td>17-38</td>\n",
       "      <td>1</td>\n",
       "      <td>0</td>\n",
       "      <td>0</td>\n",
       "      <td>11</td>\n",
       "      <td>0</td>\n",
       "      <td>0</td>\n",
       "      <td>0</td>\n",
       "      <td>2</td>\n",
       "      <td>0</td>\n",
       "      <td>...</td>\n",
       "      <td>0</td>\n",
       "      <td>0</td>\n",
       "      <td>0</td>\n",
       "      <td>58</td>\n",
       "      <td>0</td>\n",
       "      <td>87</td>\n",
       "      <td>0</td>\n",
       "      <td>0</td>\n",
       "      <td>0</td>\n",
       "      <td>0</td>\n",
       "    </tr>\n",
       "    <tr>\n",
       "      <th>4</th>\n",
       "      <td>17-39</td>\n",
       "      <td>1</td>\n",
       "      <td>0</td>\n",
       "      <td>0</td>\n",
       "      <td>12</td>\n",
       "      <td>0</td>\n",
       "      <td>0</td>\n",
       "      <td>0</td>\n",
       "      <td>2</td>\n",
       "      <td>0</td>\n",
       "      <td>...</td>\n",
       "      <td>0</td>\n",
       "      <td>0</td>\n",
       "      <td>0</td>\n",
       "      <td>68</td>\n",
       "      <td>0</td>\n",
       "      <td>54</td>\n",
       "      <td>14</td>\n",
       "      <td>0</td>\n",
       "      <td>0</td>\n",
       "      <td>0</td>\n",
       "    </tr>\n",
       "    <tr>\n",
       "      <th>...</th>\n",
       "      <td>...</td>\n",
       "      <td>...</td>\n",
       "      <td>...</td>\n",
       "      <td>...</td>\n",
       "      <td>...</td>\n",
       "      <td>...</td>\n",
       "      <td>...</td>\n",
       "      <td>...</td>\n",
       "      <td>...</td>\n",
       "      <td>...</td>\n",
       "      <td>...</td>\n",
       "      <td>...</td>\n",
       "      <td>...</td>\n",
       "      <td>...</td>\n",
       "      <td>...</td>\n",
       "      <td>...</td>\n",
       "      <td>...</td>\n",
       "      <td>...</td>\n",
       "      <td>...</td>\n",
       "      <td>...</td>\n",
       "      <td>...</td>\n",
       "    </tr>\n",
       "    <tr>\n",
       "      <th>137</th>\n",
       "      <td>20-16</td>\n",
       "      <td>2</td>\n",
       "      <td>0</td>\n",
       "      <td>1</td>\n",
       "      <td>24</td>\n",
       "      <td>2</td>\n",
       "      <td>3</td>\n",
       "      <td>1</td>\n",
       "      <td>10</td>\n",
       "      <td>1</td>\n",
       "      <td>...</td>\n",
       "      <td>5</td>\n",
       "      <td>0</td>\n",
       "      <td>0</td>\n",
       "      <td>8</td>\n",
       "      <td>1</td>\n",
       "      <td>76</td>\n",
       "      <td>0</td>\n",
       "      <td>0</td>\n",
       "      <td>0</td>\n",
       "      <td>0</td>\n",
       "    </tr>\n",
       "    <tr>\n",
       "      <th>138</th>\n",
       "      <td>20-17</td>\n",
       "      <td>2</td>\n",
       "      <td>0</td>\n",
       "      <td>1</td>\n",
       "      <td>19</td>\n",
       "      <td>1</td>\n",
       "      <td>2</td>\n",
       "      <td>1</td>\n",
       "      <td>10</td>\n",
       "      <td>1</td>\n",
       "      <td>...</td>\n",
       "      <td>8</td>\n",
       "      <td>0</td>\n",
       "      <td>0</td>\n",
       "      <td>10</td>\n",
       "      <td>0</td>\n",
       "      <td>41</td>\n",
       "      <td>0</td>\n",
       "      <td>0</td>\n",
       "      <td>0</td>\n",
       "      <td>0</td>\n",
       "    </tr>\n",
       "    <tr>\n",
       "      <th>139</th>\n",
       "      <td>20-18</td>\n",
       "      <td>2</td>\n",
       "      <td>0</td>\n",
       "      <td>1</td>\n",
       "      <td>18</td>\n",
       "      <td>1</td>\n",
       "      <td>2</td>\n",
       "      <td>1</td>\n",
       "      <td>8</td>\n",
       "      <td>1</td>\n",
       "      <td>...</td>\n",
       "      <td>6</td>\n",
       "      <td>0</td>\n",
       "      <td>0</td>\n",
       "      <td>5</td>\n",
       "      <td>0</td>\n",
       "      <td>56</td>\n",
       "      <td>0</td>\n",
       "      <td>11</td>\n",
       "      <td>0</td>\n",
       "      <td>0</td>\n",
       "    </tr>\n",
       "    <tr>\n",
       "      <th>140</th>\n",
       "      <td>20-19</td>\n",
       "      <td>2</td>\n",
       "      <td>0</td>\n",
       "      <td>1</td>\n",
       "      <td>16</td>\n",
       "      <td>1</td>\n",
       "      <td>2</td>\n",
       "      <td>1</td>\n",
       "      <td>6</td>\n",
       "      <td>1</td>\n",
       "      <td>...</td>\n",
       "      <td>7</td>\n",
       "      <td>0</td>\n",
       "      <td>0</td>\n",
       "      <td>7</td>\n",
       "      <td>0</td>\n",
       "      <td>28</td>\n",
       "      <td>0</td>\n",
       "      <td>0</td>\n",
       "      <td>0</td>\n",
       "      <td>0</td>\n",
       "    </tr>\n",
       "    <tr>\n",
       "      <th>141</th>\n",
       "      <td>20-20</td>\n",
       "      <td>2</td>\n",
       "      <td>0</td>\n",
       "      <td>1</td>\n",
       "      <td>15</td>\n",
       "      <td>1</td>\n",
       "      <td>2</td>\n",
       "      <td>1</td>\n",
       "      <td>5</td>\n",
       "      <td>1</td>\n",
       "      <td>...</td>\n",
       "      <td>5</td>\n",
       "      <td>0</td>\n",
       "      <td>0</td>\n",
       "      <td>8</td>\n",
       "      <td>0</td>\n",
       "      <td>36</td>\n",
       "      <td>11</td>\n",
       "      <td>0</td>\n",
       "      <td>0</td>\n",
       "      <td>0</td>\n",
       "    </tr>\n",
       "  </tbody>\n",
       "</table>\n",
       "<p>142 rows × 1001 columns</p>\n",
       "</div>"
      ],
      "text/plain": [
       "     weeks  influenza  H1N1 flu  swine flu  Flu  H1N1  seasonal flu  \\\n",
       "0    17-35          0         0          0    6     0             0   \n",
       "1    17-36          1         0          0    8     0             0   \n",
       "2    17-37          1         0          0    9     0             0   \n",
       "3    17-38          1         0          0   11     0             0   \n",
       "4    17-39          1         0          0   12     0             0   \n",
       "..     ...        ...       ...        ...  ...   ...           ...   \n",
       "137  20-16          2         0          1   24     2             3   \n",
       "138  20-17          2         0          1   19     1             2   \n",
       "139  20-18          2         0          1   18     1             2   \n",
       "140  20-19          2         0          1   16     1             2   \n",
       "141  20-20          2         0          1   15     1             2   \n",
       "\n",
       "     H1N1 virus  flu virus  H1N1 swine flu  ...  polio epidemic  \\\n",
       "0             0          1               0  ...               1   \n",
       "1             0          2               0  ...               0   \n",
       "2             0          2               0  ...               0   \n",
       "3             0          2               0  ...               0   \n",
       "4             0          2               0  ...               0   \n",
       "..          ...        ...             ...  ...             ...   \n",
       "137           1         10               1  ...               5   \n",
       "138           1         10               1  ...               8   \n",
       "139           1          8               1  ...               6   \n",
       "140           1          6               1  ...               7   \n",
       "141           1          5               1  ...               5   \n",
       "\n",
       "     Afluria seasonal flu  hemolytic uremic syndrome HUS  croup  Jeff Duchin  \\\n",
       "0                       0                              0     40            0   \n",
       "1                       0                              0     50            0   \n",
       "2                       0                              0     51            0   \n",
       "3                       0                              0     58            0   \n",
       "4                       0                              0     68            0   \n",
       "..                    ...                            ...    ...          ...   \n",
       "137                     0                              0      8            1   \n",
       "138                     0                              0     10            0   \n",
       "139                     0                              0      5            0   \n",
       "140                     0                              0      7            0   \n",
       "141                     0                              0      8            0   \n",
       "\n",
       "     inactivated vaccine  fevers aches  invasive pneumococcal disease  \\\n",
       "0                     46             0                              0   \n",
       "1                     50            14                             14   \n",
       "2                     46            14                             14   \n",
       "3                     87             0                              0   \n",
       "4                     54            14                              0   \n",
       "..                   ...           ...                            ...   \n",
       "137                   76             0                              0   \n",
       "138                   41             0                              0   \n",
       "139                   56             0                             11   \n",
       "140                   28             0                              0   \n",
       "141                   36            11                              0   \n",
       "\n",
       "     Sudden Acute Respiratory Syndrome  commonly infect humans  \n",
       "0                                    0                       0  \n",
       "1                                    0                       0  \n",
       "2                                    0                       0  \n",
       "3                                    0                       0  \n",
       "4                                    0                       0  \n",
       "..                                 ...                     ...  \n",
       "137                                  0                       0  \n",
       "138                                  0                       0  \n",
       "139                                  0                       0  \n",
       "140                                  0                       0  \n",
       "141                                  0                       0  \n",
       "\n",
       "[142 rows x 1001 columns]"
      ]
     },
     "execution_count": 7,
     "metadata": {},
     "output_type": "execute_result"
    }
   ],
   "source": [
    "trends['us']"
   ]
  },
  {
   "cell_type": "code",
   "execution_count": 8,
   "metadata": {},
   "outputs": [
    {
     "name": "stdout",
     "output_type": "stream",
     "text": [
      "us trends data shape: (142, 1001)\n",
      "au trends data shape: (142, 966)\n",
      "kr trends data shape: (142, 1001)\n"
     ]
    }
   ],
   "source": [
    "# trends 데이터의 형태 출력\n",
    "\n",
    "for nation in trends:\n",
    "    print(f'{nation} trends data shape: {trends[nation].shape}')"
   ]
  },
  {
   "cell_type": "code",
   "execution_count": 9,
   "metadata": {},
   "outputs": [
    {
     "data": {
      "image/png": "[encoded data removed]",
      "text/plain": [
       "<Figure size 648x216 with 1 Axes>"
      ]
     },
     "metadata": {
      "needs_background": "light"
     },
     "output_type": "display_data"
    }
   ],
   "source": [
    "# flu 데이터 시각화\n",
    "\n",
    "ploting_config = {\n",
    "    'us': {\n",
    "        'c': 'red',\n",
    "        'ls': '-.',\n",
    "        'marker': 's',\n",
    "    },\n",
    "    'au': {\n",
    "        'c': 'blue',\n",
    "        'ls': '--',\n",
    "        'marker': 'D',\n",
    "    },\n",
    "    'kr': {\n",
    "        'c': 'black',\n",
    "        'ls': '-',\n",
    "        'marker': '.',\n",
    "    }\n",
    "}\n",
    "\n",
    "plt.figure(figsize=(9, 3))\n",
    "for nation, flu_df in flu.items():\n",
    "    plt.plot(flu_df['ILI'],\n",
    "             label=f'ILI ({nation.upper()})',\n",
    "             c=ploting_config[nation]['c'],\n",
    "             ls=ploting_config[nation]['ls'],\n",
    "             marker=ploting_config[nation]['marker'],\n",
    "             markersize=1, linewidth=1)\n",
    "\n",
    "plt.xticks(range(15, 541, 52), [str(i) for i in range(2010, 2021)])\n",
    "plt.xlabel('Time (weeks)')\n",
    "plt.ylabel('ILI rate per 1000 consultations')\n",
    "plt.xlim(0-5, 541+5)\n",
    "plt.legend(ncol=3)\n",
    "plt.show()"
   ]
  },
  {
   "cell_type": "markdown",
   "metadata": {},
   "source": [
    "### 2-2. 웹 데이터의 시간 차 계산"
   ]
  },
  {
   "cell_type": "code",
   "execution_count": 10,
   "metadata": {},
   "outputs": [
    {
     "name": "stderr",
     "output_type": "stream",
     "text": [
      "  2%|▏         | 18/1000 [00:00<00:05, 178.29it/s]"
     ]
    },
    {
     "name": "stdout",
     "output_type": "stream",
     "text": [
      "========== us ==========\n"
     ]
    },
    {
     "name": "stderr",
     "output_type": "stream",
     "text": [
      "100%|██████████| 1000/1000 [00:04<00:00, 212.13it/s]\n",
      "  2%|▏         | 18/965 [00:00<00:05, 171.02it/s]"
     ]
    },
    {
     "name": "stdout",
     "output_type": "stream",
     "text": [
      "========== au ==========\n"
     ]
    },
    {
     "name": "stderr",
     "output_type": "stream",
     "text": [
      "100%|██████████| 965/965 [00:04<00:00, 215.06it/s]\n",
      "  2%|▏         | 23/1000 [00:00<00:04, 229.34it/s]"
     ]
    },
    {
     "name": "stdout",
     "output_type": "stream",
     "text": [
      "========== kr ==========\n"
     ]
    },
    {
     "name": "stderr",
     "output_type": "stream",
     "text": [
      "100%|██████████| 1000/1000 [00:04<00:00, 221.51it/s]\n"
     ]
    }
   ],
   "source": [
    "MIN_PRECIDENCE = 3 # 최소 시간 선행\n",
    "MAX_PRECIDENCE = 15 # 최대 시간 선행\n",
    "precidences = [i for i in range(MIN_PRECIDENCE, MAX_PRECIDENCE+1)]\n",
    "\n",
    "corrs = {}\n",
    "\n",
    "for nation in ['us', 'au', 'kr']:\n",
    "    print('='*10, nation, '='*10)\n",
    "    flu_data = flu[nation]\n",
    "    trends_data = trends[nation]\n",
    "    # trends_data = trends_data[trends_data.weeks>='18-05'].reset_index(drop=True)\n",
    "\n",
    "    corrs_by_prcds = []\n",
    "    keywords = trends_data.columns[1:] # weeks를 제외한 모든 열\n",
    "    for keyword in tqdm(keywords):\n",
    "        # correlation을 계산할 데이터 선택\n",
    "        # trends의 weeks와 일치하는 flu데이터\n",
    "        base = flu_data[flu_data.weeks.isin(trends_data.weeks)].ILI.reset_index(drop=True)\n",
    "        target = trends_data[keyword] # 각 키워드의 trends 데이터\n",
    "        \n",
    "        corr_list = []\n",
    "        for prcd in precidences:\n",
    "            corr = base.corr(target.shift(prcd)) # precidence에 따라 trends를 shift/corr 계산\n",
    "            corr_list.append(corr)\n",
    "        corrs_by_prcds.append(corr_list)\n",
    "\n",
    "    corrs_by_prcds = pd.DataFrame(corrs_by_prcds).T # 데이터 프레임 형식\n",
    "    corrs_by_prcds.columns = keywords \n",
    "    corrs_by_prcds.insert(0, 'prcd', precidences) # 첫 번째 열에 precidence를 표시\n",
    "    corrs[nation] = corrs_by_prcds"
   ]
  },
  {
   "cell_type": "code",
   "execution_count": 11,
   "metadata": {},
   "outputs": [
    {
     "data": {
      "image/png": "[encoded data removed]",
      "text/plain": [
       "<Figure size 432x288 with 2 Axes>"
      ]
     },
     "metadata": {
      "needs_background": "light"
     },
     "output_type": "display_data"
    }
   ],
   "source": [
    "# US의 \"colds\" 키워드에 대한 시간 차 웹 데이터 검색 비율 예시 시각화\n",
    "\n",
    "nation = 'us'\n",
    "keyword = 'colds'\n",
    "prcd = corrs[nation][keyword].argmax() + MIN_PRECIDENCE # 시간 선행\n",
    "\n",
    "flu_df = flu[nation]\n",
    "trends_df = trends[nation]\n",
    "base_weeks = flu_df[(flu_df.weeks>='18-27') & (flu_df.weeks<='19-24')].weeks\n",
    "shifted_weeks = flu_df[base_weeks.index[0]-prcd:base_weeks.index[-1]+1].weeks\n",
    "\n",
    "fig, ax1 = plt.subplots()\n",
    "ax1.plot(flu_df[flu_df.weeks.isin(base_weeks)].ILI.values,\n",
    "         c='k', ls='-', label=f'ILI ({nation.upper()})')\n",
    "ax2 = ax1.twinx()\n",
    "ax2.plot(trends_df[trends_df.weeks.isin(base_weeks)][keyword].values,\n",
    "         c='b', ls='--', label=keyword)\n",
    "ax2.plot(trends_df[trends_df.weeks.isin(shifted_weeks)][keyword].values,\n",
    "         c='r', ls='-', label=f'{keyword} ({prcd}-weeks shifted)')\n",
    "\n",
    "ax1.set_xticks([0, 10, 20, 30, 40, 49])\n",
    "ax1.set_xticklabels(base_weeks.values[[0, 10, 20, 30, 40, 49]])\n",
    "\n",
    "ax1.set_ylabel('ILI rate')\n",
    "ax2.set_ylabel('Search rate')\n",
    "ax1.set_xlabel('Weeks')\n",
    "\n",
    "fig.legend(loc='lower center', bbox_to_anchor=(0.5,-0.3), bbox_transform=ax1.transAxes, ncol=3)\n",
    "plt.show()"
   ]
  },
  {
   "cell_type": "markdown",
   "metadata": {},
   "source": [
    "## 3. 예측 모델"
   ]
  },
  {
   "cell_type": "markdown",
   "metadata": {},
   "source": [
    "### 3-1. 데이터 전처리"
   ]
  },
  {
   "cell_type": "code",
   "execution_count": 12,
   "metadata": {},
   "outputs": [],
   "source": [
    "# 데이터 슬라이스\n",
    "\n",
    "def slice_data(flu_data, trends_data, corrs_data, \n",
    "               lookback=5, lookahead=5, topn=1, historic=7):\n",
    "    flu_inputs = []\n",
    "    flu_labels = []\n",
    "    web_past_inputs = []\n",
    "    web_future_inputs = []\n",
    "    \n",
    "    # 상관 계수가 높은 것 순서대로 정렬\n",
    "    keywords_rank = corrs_data.max().sort_values(ascending=False)\n",
    "    # topn 개의 keywords만 사용할 예정 (index 1의 경우 prcd 열이므로 제외)\n",
    "    keywords_rank = [(keyword, coef, corrs_data[keyword].argmax()+MIN_PRECIDENCE)\n",
    "                     for keyword, coef in keywords_rank[1:topn+1].items()]\n",
    "    \n",
    "    # label의 시간을 기준으로 가용 가능한 데이터 범위 선택\n",
    "    # |                       Total weeks                           |\n",
    "    # |  MAX_PRECIDENCE  |   lookback   | < avaliable label weeks > |\n",
    "    available_weeks = trends_data['weeks'][MAX_PRECIDENCE+lookback:-lookahead+1].values\n",
    "    for year_week in available_weeks:\n",
    "        year, week = map(int, year_week.split('-'))\n",
    "        \n",
    "        flu_pos = flu_data[flu_data.weeks==f'{year}-{week:02}'].index[0]\n",
    "        \n",
    "        # 현재 label 위치를 기준으로 [lookback 스텝 이전, 현재 label 위치-1]까지\n",
    "        curr_flu = flu_data[flu_pos-lookback:flu_pos].ILI.values.reshape(-1, 1)\n",
    "        # 현재 label 위치를 기준으로 [현재 label 위치, lookahead 스텝 이후]까지\n",
    "        curr_lbl = flu_data[flu_pos:flu_pos+lookahead].ILI.values.reshape(-1, 1)\n",
    "        \n",
    "        # 과거 년도 데이터 탐색\n",
    "        for h in range(1, historic+1):\n",
    "            # 같은 구간에서 년도만 다르게 하여 값을 선택\n",
    "            # 예) 현재 18-03 week 라면 17-03, 16-03, ... 에 대한 값들을 선택 \n",
    "            flu_pos = flu_data[flu_data.weeks==f'{year-h}-{week:02}'].index[0]\n",
    "            historic_flu = flu_data[flu_pos-lookback:flu_pos].ILI.values.reshape(-1, 1)\n",
    "            curr_flu = np.hstack([curr_flu, historic_flu])\n",
    "        \n",
    "        # 웹 데이터 탐색\n",
    "        web_past = []\n",
    "        web_future = []\n",
    "        for keyword, coef, prcd in keywords_rank:\n",
    "            # flu 데이터와 동일한 구조이지만 precidence만큼 이전 데이터 사용\n",
    "            web_pos = trends_data[trends_data.weeks==f'{year}-{week:02}'].index[0]\n",
    "            curr_web_past = trends_data[keyword][web_pos-lookback-prcd:web_pos-prcd].values.reshape(-1, 1)\n",
    "            curr_web_future = np.random.uniform(1e-6, 1e-4, (lookahead, 1))\n",
    "            curr_web_future[:prcd] = trends_data[keyword][web_pos-prcd:web_pos-prcd+lookahead].values.reshape(-1, 1)[:prcd]\n",
    "            \n",
    "            web_past.append(curr_web_past)\n",
    "            web_future.append(curr_web_future)\n",
    "            \n",
    "        web_past = np.hstack(web_past)\n",
    "        web_future = np.hstack(web_future)\n",
    "        \n",
    "        flu_inputs.append(curr_flu)\n",
    "        flu_labels.append(curr_lbl)\n",
    "        web_past_inputs.append(web_past)\n",
    "        web_future_inputs.append(web_future)\n",
    "    \n",
    "    return flu_inputs, flu_labels, web_past_inputs, web_future_inputs"
   ]
  },
  {
   "cell_type": "code",
   "execution_count": 13,
   "metadata": {},
   "outputs": [],
   "source": [
    "# 데이터 정규화 (MinMax)\n",
    "\n",
    "flu_norm = {nation: normalize(flu_df) for nation, flu_df in flu.items()}\n",
    "trends_norm = {nation: normalize(trends_df) for nation, trends_df in trends.items()}"
   ]
  },
  {
   "cell_type": "markdown",
   "metadata": {},
   "source": [
    "### 3-2. 모델 학습"
   ]
  },
  {
   "cell_type": "code",
   "execution_count": 14,
   "metadata": {},
   "outputs": [],
   "source": [
    "# hyper parameters\n",
    "\n",
    "LOOKBACK = 8\n",
    "LOOKAHEAD = 10\n",
    "LAYER_SIZE = 128\n",
    "TOPN = {'us': 1, 'au': 1, 'kr': 9}\n",
    "\n",
    "EPOCHS = 200\n",
    "BATCH_SIZE = 64\n"
   ]
  },
  {
   "cell_type": "code",
   "execution_count": 16,
   "metadata": {},
   "outputs": [
    {
     "name": "stdout",
     "output_type": "stream",
     "text": [
      "========== us ==========\n"
     ]
    },
    {
     "data": {
      "application/vnd.jupyter.widget-view+json": {
       "model_id": "2d409a3cc570422982bcb71d8d3bf6b7",
       "version_major": 2,
       "version_minor": 0
      },
      "text/plain": [
       "Training:   0%|           0/200 ETA: ?s,  ?epochs/s"
      ]
     },
     "metadata": {},
     "output_type": "display_data"
    },
    {
     "name": "stdout",
     "output_type": "stream",
     "text": [
      "========== au ==========\n"
     ]
    },
    {
     "data": {
      "application/vnd.jupyter.widget-view+json": {
       "model_id": "731abe77ab544d389b71f2ebb6cf9fd5",
       "version_major": 2,
       "version_minor": 0
      },
      "text/plain": [
       "Training:   0%|           0/200 ETA: ?s,  ?epochs/s"
      ]
     },
     "metadata": {},
     "output_type": "display_data"
    },
    {
     "name": "stdout",
     "output_type": "stream",
     "text": [
      "========== kr ==========\n"
     ]
    },
    {
     "data": {
      "application/vnd.jupyter.widget-view+json": {
       "model_id": "409b259a39784c0d89293e341cfecaaf",
       "version_major": 2,
       "version_minor": 0
      },
      "text/plain": [
       "Training:   0%|           0/200 ETA: ?s,  ?epochs/s"
      ]
     },
     "metadata": {},
     "output_type": "display_data"
    }
   ],
   "source": [
    "datasets = {nation: {} for nation in ['us', 'au', 'kr']}\n",
    "models = {}\n",
    "histories = {}\n",
    "\n",
    "for nation in ['us', 'au', 'kr']:\n",
    "    print('='*10, nation, '='*10)\n",
    "    flu_inputs, flu_labels, web_past_inputs, web_future_inputs = slice_data(flu_norm[nation][0], \n",
    "                                                                            trends_norm[nation][0], \n",
    "                                                                            corrs[nation], \n",
    "                                                                            lookback=LOOKBACK,\n",
    "                                                                            lookahead=LOOKAHEAD,\n",
    "                                                                            topn=TOPN[nation])\n",
    "    \n",
    "    train_flu_inputs, test_flu_inputs = train_test_split(flu_inputs,\n",
    "                                                     test_size=0.2,\n",
    "                                                     shuffle=False)\n",
    "\n",
    "    train_flu_labels, test_flu_labels = train_test_split(flu_labels,\n",
    "                                                        test_size=0.2,\n",
    "                                                        shuffle=False)\n",
    "\n",
    "    train_web_past_inputs, test_web_past_inputs = train_test_split(web_past_inputs,\n",
    "                                                                test_size=0.2,\n",
    "                                                                shuffle=False)\n",
    "\n",
    "    train_web_future_inputs, test_web_future_inputs = train_test_split(web_future_inputs,\n",
    "                                                                    test_size=0.2,\n",
    "                                                                    shuffle=False)\n",
    "    \n",
    "    datasets[nation]['train'] = tf.data.Dataset.from_tensor_slices(((train_flu_inputs, \n",
    "                                                                     train_web_past_inputs, \n",
    "                                                                     train_web_future_inputs), \n",
    "                                                                    train_flu_labels))\n",
    "    datasets[nation]['test'] = tf.data.Dataset.from_tensor_slices(((test_flu_inputs, \n",
    "                                                                    test_web_past_inputs, \n",
    "                                                                    test_web_future_inputs),\n",
    "                                                                   test_flu_labels))\n",
    "    \n",
    "    tf.keras.backend.clear_session()\n",
    "    proposed_model = Proposed()\n",
    "    proposed_model.compile(loss='mse', optimizer='adam')\n",
    "    \n",
    "    histories[nation] = proposed_model.fit(datasets[nation]['train'].batch(BATCH_SIZE),\n",
    "                                           epochs=EPOCHS, verbose=0,\n",
    "                                           callbacks=[tfa.callbacks.TQDMProgressBar(show_epoch_progress=False)])\n",
    "    models[nation] = proposed_model\n",
    "    "
   ]
  },
  {
   "cell_type": "code",
   "execution_count": 18,
   "metadata": {},
   "outputs": [
    {
     "data": {
      "image/png": "[encoded data removed]",
      "text/plain": [
       "<Figure size 864x216 with 3 Axes>"
      ]
     },
     "metadata": {
      "needs_background": "light"
     },
     "output_type": "display_data"
    }
   ],
   "source": [
    "fig, ax = plt.subplots(1, 3, figsize=(12, 3))\n",
    "\n",
    "for i, nation in enumerate(['us', 'au', 'kr']):\n",
    "    ax[i].plot(histories[nation].history['loss'])\n",
    "    ax[i].set_title(nation.upper())\n",
    "    ax[i].set_xlabel('epochs')\n",
    "ax[0].set_ylabel('loss')\n",
    "plt.show()"
   ]
  },
  {
   "cell_type": "markdown",
   "metadata": {},
   "source": [
    "### 3-3. 예측 결과"
   ]
  },
  {
   "cell_type": "code",
   "execution_count": 19,
   "metadata": {},
   "outputs": [],
   "source": [
    "labels = {nation: {} for nation in ['us', 'au', 'kr']}\n",
    "predictions = {nation: {} for nation in ['us', 'au', 'kr']}\n",
    "\n",
    "for nation in ['us', 'au', 'kr']:\n",
    "    train_inputs, train_labels = next(iter(datasets[nation]['train'].batch(1000)))\n",
    "    train_preds = models[nation](train_inputs)\n",
    "\n",
    "    test_inputs, test_labels = next(iter(datasets[nation]['test'].batch(1000)))\n",
    "    test_preds = models[nation](test_inputs)\n",
    "    \n",
    "    labels[nation]['train'] = train_labels\n",
    "    labels[nation]['test'] = test_labels\n",
    "    \n",
    "    predictions[nation]['train'] = train_preds\n",
    "    predictions[nation]['test'] = test_preds    "
   ]
  },
  {
   "cell_type": "code",
   "execution_count": 20,
   "metadata": {},
   "outputs": [
    {
     "data": {
      "image/png": "[encoded data removed]",
      "text/plain": [
       "<Figure size 864x216 with 3 Axes>"
      ]
     },
     "metadata": {
      "needs_background": "light"
     },
     "output_type": "display_data"
    }
   ],
   "source": [
    "ahead = 10 # 확인할 예측 스텝, [1, 10]의 범위의 값이며 예측 주차를 의미함.\n",
    "\n",
    "fig, ax = plt.subplots(1, 3, figsize=(12, 3))\n",
    "for i, nation in enumerate(['us', 'au', 'kr']):\n",
    "    available_weeks = trends[nation]['weeks'][MAX_PRECIDENCE+LOOKBACK+ahead-1:len(trends[nation]['weeks'])-LOOKAHEAD+ahead].values\n",
    "    train_labels, test_labels = labels[nation]['train'], labels[nation]['test']\n",
    "    train_preds, test_preds = predictions[nation]['train'], predictions[nation]['test']\n",
    "    \n",
    "    ax[i].plot(tf.concat([train_labels[:, ahead-1], test_labels[:, ahead-1]], axis=0),\n",
    "               label='ILI (Truth)', c='k')\n",
    "    ax[i].plot(tf.concat([train_preds[:, ahead-1], test_preds[:, ahead-1]], axis=0),\n",
    "               label='Proposed', c='r', ls='--')\n",
    "    ax[i].axvline(x=len(train_labels), c='k', ls=':')\n",
    "    \n",
    "    ax[i].set_title(nation.upper())\n",
    "    ax[i].set_xticks(range(0, len(available_weeks)+1, 20))\n",
    "    ax[i].set_xticklabels([available_weeks[i] for i in range(0, len(available_weeks)+1, 20)],\n",
    "                          rotation=45)\n",
    "\n",
    "plt.legend(loc='upper center', bbox_to_anchor=(-0.7, -0.25), ncol=2, \n",
    "               labels=['ILI (Truth)', 'Proposed'])\n",
    "plt.show()"
   ]
  }
 ],
 "metadata": {
  "interpreter": {
   "hash": "949777d72b0d2535278d3dc13498b2535136f6dfe0678499012e853ee9abcab1"
  },
  "kernelspec": {
   "display_name": "py38tf2",
   "language": "python",
   "name": "python3"
  },
  "language_info": {
   "codemirror_mode": {
    "name": "ipython",
    "version": 3
   },
   "file_extension": ".py",
   "mimetype": "text/x-python",
   "name": "python",
   "nbconvert_exporter": "python",
   "pygments_lexer": "ipython3",
   "version": "3.8.12"
  }
 },
 "nbformat": 4,
 "nbformat_minor": 4
}
